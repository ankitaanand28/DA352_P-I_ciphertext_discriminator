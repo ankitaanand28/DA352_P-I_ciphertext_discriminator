{
 "cells": [
  {
   "cell_type": "code",
   "execution_count": 54,
   "metadata": {},
   "outputs": [],
   "source": [
    "import pandas as pd\n",
    "import numpy as np\n",
    "import random\n",
    "from sklearn.model_selection import train_test_split\n",
    "import custom_utility\n",
    "from custom_utility import *\n",
    "import matplotlib.pyplot as plt\n",
    "from sklearn.metrics import confusion_matrix\n",
    "from sklearn.metrics import accuracy_score, classification_report\n",
    "import torch\n",
    "from torch.utils.data import Dataset, DataLoader\n",
    "from torch.nn.utils.rnn import pad_sequence\n",
    "import torch.nn as nn\n",
    "import torch.optim as optim\n",
    "import RNN_Model\n",
    "from RNN_Model import *\n",
    "import importlib"
   ]
  },
  {
   "cell_type": "code",
   "execution_count": 3,
   "metadata": {},
   "outputs": [
    {
     "data": {
      "text/plain": [
       "<module 'custom_utility' from 'c:\\\\Users\\\\Ankita Anand\\\\Downloads\\\\p&i,privacy&security\\\\Linear_Feedback_Shift_Register\\\\DA352_P02\\\\custom_utility.py'>"
      ]
     },
     "execution_count": 3,
     "metadata": {},
     "output_type": "execute_result"
    }
   ],
   "source": [
    "# If you make changes to the utility file, reload it in the notebook\n",
    "importlib.reload(custom_utility)"
   ]
  },
  {
   "cell_type": "markdown",
   "metadata": {},
   "source": [
    "# Linear Feedback Shift Register"
   ]
  },
  {
   "cell_type": "markdown",
   "metadata": {},
   "source": [
    "### Dataloader"
   ]
  },
  {
   "cell_type": "code",
   "execution_count": 55,
   "metadata": {},
   "outputs": [],
   "source": [
    "# Load the dataset\n",
    "#lfsr \"ciphertext_distinguisher_dataset.csv\"\n",
    "dataset = CipherDataset(\"Dataset_LFSR/lfsr_ciphertext_distinguisher_dataset.csv\")\n",
    "\n",
    "# Split the dataset into train and validation sets\n",
    "train_size = int(0.8 * len(dataset))\n",
    "val_size = len(dataset) - train_size\n",
    "train_dataset, val_dataset = torch.utils.data.random_split(dataset, [train_size, val_size])\n",
    "\n",
    "# Load the dataset with the modified collate function\n",
    "train_loader = DataLoader(train_dataset, batch_size=32, shuffle=True, collate_fn=collate_fn)\n",
    "val_loader = DataLoader(val_dataset, batch_size=32, shuffle=False, collate_fn=collate_fn)"
   ]
  },
  {
   "cell_type": "markdown",
   "metadata": {},
   "source": [
    "### Model Architecture"
   ]
  },
  {
   "cell_type": "code",
   "execution_count": 5,
   "metadata": {},
   "outputs": [],
   "source": [
    "\n",
    "\n",
    "\n",
    "# Initialize the model, loss function, and optimizer\n",
    "input_size = 1  # Since each character is considered as an input\n",
    "hidden_size = 128\n",
    "num_layers = 1\n",
    "num_classes = 2\n",
    "\n",
    "model = RNNClassifier(input_size, hidden_size, num_layers, num_classes)\n",
    "criterion = nn.CrossEntropyLoss()\n",
    "optimizer = torch.optim.Adam(model.parameters(), lr=0.001)"
   ]
  },
  {
   "cell_type": "markdown",
   "metadata": {},
   "source": [
    "### Training Model"
   ]
  },
  {
   "cell_type": "code",
   "execution_count": 9,
   "metadata": {},
   "outputs": [
    {
     "name": "stdout",
     "output_type": "stream",
     "text": [
      "Epoch [1/100], Train Loss: 0.6716, Val Loss: 0.6682, Val Acc: 0.5775\n",
      "Epoch [11/100], Train Loss: 0.6297, Val Loss: 0.6645, Val Acc: 0.5078\n",
      "Epoch [21/100], Train Loss: 0.6554, Val Loss: 0.6554, Val Acc: 0.5814\n",
      "Epoch [31/100], Train Loss: 0.6250, Val Loss: 0.6621, Val Acc: 0.5814\n",
      "Epoch [41/100], Train Loss: 0.6425, Val Loss: 1.0019, Val Acc: 0.5078\n",
      "Epoch [51/100], Train Loss: 0.6370, Val Loss: 0.6575, Val Acc: 0.5853\n",
      "Epoch [61/100], Train Loss: 0.6238, Val Loss: 0.6389, Val Acc: 0.6163\n",
      "Epoch [71/100], Train Loss: 0.6577, Val Loss: 0.6554, Val Acc: 0.5853\n",
      "Epoch [81/100], Train Loss: 0.6542, Val Loss: 0.6608, Val Acc: 0.5853\n",
      "Epoch [91/100], Train Loss: 0.6342, Val Loss: 0.6595, Val Acc: 0.5853\n"
     ]
    }
   ],
   "source": [
    "\n",
    "\n",
    "# Train the model\n",
    "train_model(model, criterion, optimizer, train_loader, val_loader, num_epochs=100)"
   ]
  },
  {
   "cell_type": "code",
   "execution_count": 52,
   "metadata": {},
   "outputs": [],
   "source": [
    "import pickle\n",
    "\n",
    "with open('model_LFSR.pkl', 'wb') as f:\n",
    "    pickle.dump(model, f)\n"
   ]
  },
  {
   "cell_type": "markdown",
   "metadata": {},
   "source": [
    "# Feistel Network (2 rounds)"
   ]
  },
  {
   "cell_type": "markdown",
   "metadata": {},
   "source": [
    "### Dataloader"
   ]
  },
  {
   "cell_type": "code",
   "execution_count": 56,
   "metadata": {},
   "outputs": [],
   "source": [
    "# Load the dataset\n",
    "dataset_fiestel = CipherDataset(\"Dataset_Fiestel/feistel_ciphertext_distinguisher_dataset.csv\")\n",
    "\n",
    "# Split the dataset into train and validation sets\n",
    "train_size = int(0.8 * len(dataset_fiestel))\n",
    "val_size = len(dataset_fiestel) - train_size\n",
    "train_dataset_fiestel, val_dataset_fiestel = torch.utils.data.random_split(dataset_fiestel, [train_size, val_size])\n",
    "\n",
    "# Load the dataset with the modified collate function\n",
    "train_loader_fiestel = DataLoader(train_dataset_fiestel, batch_size=32, shuffle=True, collate_fn=collate_fn)\n",
    "val_loader_fiestel = DataLoader(val_dataset_fiestel, batch_size=32, shuffle=False, collate_fn=collate_fn)"
   ]
  },
  {
   "cell_type": "markdown",
   "metadata": {},
   "source": [
    "### Model Architecture"
   ]
  },
  {
   "cell_type": "code",
   "execution_count": 22,
   "metadata": {},
   "outputs": [
    {
     "name": "stderr",
     "output_type": "stream",
     "text": [
      "c:\\bigdata\\anaconda\\Lib\\site-packages\\torch\\nn\\modules\\rnn.py:83: UserWarning: dropout option adds dropout after all but last recurrent layer, so non-zero dropout expects num_layers greater than 1, but got dropout=0.2 and num_layers=1\n",
      "  warnings.warn(\"dropout option adds dropout after all but last \"\n"
     ]
    }
   ],
   "source": [
    "\n",
    "# Initialize the model, loss function, and optimizer\n",
    "input_size = 1  # Since each character is considered as an input\n",
    "hidden_size = 128\n",
    "num_layers = 1\n",
    "num_classes = 2\n",
    "\n",
    "model_feistel = RNNClassifier_fiestel(input_size, hidden_size, num_layers, num_classes)\n",
    "criterion_fiestel = nn.CrossEntropyLoss()\n",
    "optimizer_fiestel = torch.optim.Adam(model_feistel.parameters(), lr=0.001)"
   ]
  },
  {
   "cell_type": "markdown",
   "metadata": {},
   "source": [
    "### Training Model"
   ]
  },
  {
   "cell_type": "code",
   "execution_count": 48,
   "metadata": {},
   "outputs": [
    {
     "name": "stdout",
     "output_type": "stream",
     "text": [
      "Epoch [1/100], Train Loss: 0.7130, Val Loss: 0.6953, Val Acc: 0.5149\n",
      "Epoch [11/100], Train Loss: 0.6997, Val Loss: 0.6909, Val Acc: 0.5446\n",
      "Epoch [21/100], Train Loss: 0.6951, Val Loss: 0.6921, Val Acc: 0.4802\n",
      "Epoch [31/100], Train Loss: 0.6921, Val Loss: 0.6896, Val Acc: 0.5495\n",
      "Epoch [41/100], Train Loss: 0.6913, Val Loss: 0.6908, Val Acc: 0.5495\n",
      "Epoch [51/100], Train Loss: 0.6919, Val Loss: 0.6922, Val Acc: 0.5495\n",
      "Epoch [61/100], Train Loss: 0.6924, Val Loss: 0.6892, Val Acc: 0.5495\n",
      "Epoch [71/100], Train Loss: 0.6909, Val Loss: 0.6911, Val Acc: 0.5099\n",
      "Epoch [81/100], Train Loss: 0.6907, Val Loss: 0.6893, Val Acc: 0.5545\n",
      "Epoch [91/100], Train Loss: 0.6912, Val Loss: 0.6881, Val Acc: 0.5644\n"
     ]
    }
   ],
   "source": [
    "# Train the model\n",
    "train_model(model_feistel, criterion_fiestel, optimizer_fiestel, train_loader_fiestel, val_loader_fiestel, num_epochs=100)"
   ]
  },
  {
   "cell_type": "code",
   "execution_count": 53,
   "metadata": {},
   "outputs": [],
   "source": [
    "import pickle\n",
    "\n",
    "with open('model_Fiestel.pkl', 'wb') as f:\n",
    "    pickle.dump(model_feistel, f)"
   ]
  },
  {
   "cell_type": "markdown",
   "metadata": {},
   "source": [
    "### Testing Model"
   ]
  },
  {
   "cell_type": "code",
   "execution_count": 44,
   "metadata": {},
   "outputs": [],
   "source": [
    "key = rand_key(20 * 8 // 2)\n",
    "preprocessed_ciphertext=torch.tensor([int(c) for c in custom_utility.feistel_cipher(\"harmful\",key)]).unsqueeze(0).unsqueeze(2).float()"
   ]
  },
  {
   "cell_type": "code",
   "execution_count": 45,
   "metadata": {},
   "outputs": [],
   "source": [
    "# Test the model\n",
    "model_feistel.eval()\n",
    "with torch.no_grad():\n",
    "    output = model_feistel(preprocessed_ciphertext)\n",
    "    _, predicted_class = torch.max(output, 1)\n",
    "\n",
    "# Convert predicted class to label\n",
    "predicted_label = \"Random\" if predicted_class.item() == 1 else \"Ciphertext\""
   ]
  },
  {
   "cell_type": "code",
   "execution_count": 46,
   "metadata": {},
   "outputs": [
    {
     "data": {
      "text/plain": [
       "'Random'"
      ]
     },
     "execution_count": 46,
     "metadata": {},
     "output_type": "execute_result"
    }
   ],
   "source": [
    "predicted_label"
   ]
  },
  {
   "cell_type": "markdown",
   "metadata": {},
   "source": [
    "# Test Dataset"
   ]
  },
  {
   "cell_type": "markdown",
   "metadata": {},
   "source": [
    "### Test Dataset for LFSR preparation"
   ]
  },
  {
   "cell_type": "code",
   "execution_count": 48,
   "metadata": {},
   "outputs": [
    {
     "data": {
      "text/plain": [
       "15"
      ]
     },
     "execution_count": 48,
     "metadata": {},
     "output_type": "execute_result"
    }
   ],
   "source": [
    "english_word=[\"rose\",\"sunflower\",\"hollow\",\"tower\",\"jailor\",\"key\",\"insect\",\"stupid\",\"keyboard\",\"money\",\"never\",\"glory\",\"coverguard\",\"lowkey\",\"ugly\"]\n",
    "len(english_word)"
   ]
  },
  {
   "cell_type": "code",
   "execution_count": 71,
   "metadata": {},
   "outputs": [],
   "source": [
    "polynomial = [5, 4, 3, 2]\n",
    "initial_state = [1, 1, 1, 0, 1]\n",
    "\n",
    "# Encrypt each word and store in a DataFrame\n",
    "ciphertext = []\n",
    "for word in english_word:\n",
    "    encrypted_text = encrypt(word, polynomial, initial_state)\n",
    "    ciphertext.append(encrypted_text)\n",
    "\n",
    "for i in range(15):\n",
    "    length = random.randint(70,120 )\n",
    "    pseudo_random_code = generate_pseudo_random_code(length)\n",
    "    ciphertext.append(pseudo_random_code)\n",
    "\n",
    "labels=[0]*15+[1]*15"
   ]
  },
  {
   "cell_type": "code",
   "execution_count": 72,
   "metadata": {},
   "outputs": [],
   "source": [
    "# Combine data into a DataFrame\n",
    "data = {\n",
    "    'Ciphertext': list(ciphertext),\n",
    "    'IsRandom': labels\n",
    "}\n",
    "\n",
    "df = pd.DataFrame(data)\n",
    "# Shuffle the DataFrame\n",
    "df = df.sample(frac=1).reset_index(drop=True)\n",
    "\n",
    "# save the DataFrame to a CSV file\n",
    "df.to_csv('Dataset_LFSR/lfsr_ciphertext_distinguisher_test_dataset.csv', index=False)"
   ]
  },
  {
   "cell_type": "markdown",
   "metadata": {},
   "source": [
    "### Using Test Dataset For LFSR Encryption Scheme "
   ]
  },
  {
   "cell_type": "code",
   "execution_count": 57,
   "metadata": {},
   "outputs": [],
   "source": [
    "# Load the dataset with the modified collate function\n",
    "\n",
    "# test_loader=CipherDataset('feistel_ciphertext_distinguisher_dataset.csv')\n",
    "test_loader=CipherDataset('Dataset_LFSR/lfsr_ciphertext_distinguisher_test_dataset.csv')\n",
    "test_loader = DataLoader(test_loader, batch_size=32, shuffle=True, collate_fn=collate_fn)"
   ]
  },
  {
   "cell_type": "code",
   "execution_count": 11,
   "metadata": {},
   "outputs": [
    {
     "name": "stdout",
     "output_type": "stream",
     "text": [
      "Accuracy: 0.7333\n",
      "\n",
      "Confusion Matrix:\n",
      "[[15  0]\n",
      " [ 8  7]]\n"
     ]
    },
    {
     "data": {
      "image/png": "[encoded data removed]",
      "text/plain": [
       "<Figure size 800x600 with 2 Axes>"
      ]
     },
     "metadata": {},
     "output_type": "display_data"
    }
   ],
   "source": [
    "import torch\n",
    "from torch.utils.data import DataLoader\n",
    "import numpy as np\n",
    "from sklearn.metrics import confusion_matrix\n",
    "\n",
    "# Assuming you have a test DataLoader called test_loader\n",
    "# Iterate through the test DataLoader\n",
    "model.eval()\n",
    "all_predictions = []\n",
    "all_ground_truth = []\n",
    "num_correct = 0\n",
    "total_samples = 0\n",
    "\n",
    "for ciphertexts, labels in test_loader:\n",
    "    with torch.no_grad():\n",
    "        # Preprocess the ciphertexts (convert to tensor and add necessary dimensions)\n",
    "        preprocessed_ciphertexts = torch.tensor([list(map(int, ciphertext)) for ciphertext in ciphertexts]).unsqueeze(2).float()\n",
    "\n",
    "        # Pass the preprocessed ciphertexts through the model\n",
    "        outputs = model(preprocessed_ciphertexts)\n",
    "\n",
    "        # Get predicted labels\n",
    "        _, predicted_classes = torch.max(outputs, 1)\n",
    "\n",
    "        # Count correct predictions\n",
    "        num_correct += (predicted_classes == labels).sum().item()\n",
    "\n",
    "        # Append predicted and ground truth labels to lists\n",
    "        all_predictions.extend(predicted_classes.tolist())\n",
    "        all_ground_truth.extend(labels.tolist())\n",
    "\n",
    "        # Update total samples\n",
    "        total_samples += labels.size(0)\n",
    "\n",
    "# Convert lists to numpy arrays\n",
    "all_predictions = np.array(all_predictions)\n",
    "all_ground_truth = np.array(all_ground_truth)\n",
    "\n",
    "# Compute confusion matrix\n",
    "conf_matrix = confusion_matrix(all_ground_truth, all_predictions)\n",
    "\n",
    "# Compute accuracy\n",
    "accuracy = np.sum(np.diag(conf_matrix)) / np.sum(conf_matrix)\n",
    "\n",
    "# Print accuracy and confusion matrix\n",
    "print(f\"Accuracy: {accuracy:.4f}\")\n",
    "print(\"\\nConfusion Matrix:\")\n",
    "print(conf_matrix)\n",
    "\n",
    "# Plot confusion matrix\n",
    "plt.figure(figsize=(8, 6))\n",
    "plt.imshow(conf_matrix, interpolation='nearest', cmap=plt.cm.Blues)\n",
    "plt.title('Confusion Matrix')\n",
    "plt.xlabel('Predicted Labels')\n",
    "plt.ylabel('True Labels')\n",
    "plt.colorbar()\n",
    "\n",
    "\n",
    "# Add annotations\n",
    "for i in range(conf_matrix.shape[0]):\n",
    "    for j in range(conf_matrix.shape[1]):\n",
    "        plt.text(j, i, str(conf_matrix[i, j]), horizontalalignment=\"center\", color=\"white\" if conf_matrix[i, j] > conf_matrix.max() / 2 else \"black\")\n",
    "\n",
    "# Remove x and y ticks\n",
    "plt.xticks([0, 1], ['0', '1'])\n",
    "plt.yticks([0, 1], ['0', '1'])\n",
    "\n",
    "plt.tight_layout()\n",
    "plt.show()\n"
   ]
  },
  {
   "cell_type": "code",
   "execution_count": 12,
   "metadata": {},
   "outputs": [
    {
     "data": {
      "text/plain": [
       "array([1, 0, 0, 1, 0, 0, 0, 1, 1, 0, 1, 0, 0, 0, 0, 0, 0, 0, 0, 0, 0, 1,\n",
       "       0, 0, 0, 1, 0, 0, 0, 0])"
      ]
     },
     "execution_count": 12,
     "metadata": {},
     "output_type": "execute_result"
    }
   ],
   "source": [
    "all_predictions"
   ]
  },
  {
   "cell_type": "code",
   "execution_count": 13,
   "metadata": {},
   "outputs": [
    {
     "data": {
      "text/plain": [
       "array([1, 1, 1, 1, 0, 0, 0, 1, 1, 0, 1, 1, 1, 1, 0, 0, 1, 0, 0, 0, 1, 1,\n",
       "       0, 0, 1, 1, 0, 0, 0, 0])"
      ]
     },
     "execution_count": 13,
     "metadata": {},
     "output_type": "execute_result"
    }
   ],
   "source": [
    "all_ground_truth"
   ]
  },
  {
   "cell_type": "code",
   "execution_count": null,
   "metadata": {},
   "outputs": [],
   "source": []
  },
  {
   "cell_type": "markdown",
   "metadata": {},
   "source": [
    "### Using Test Dataset For Feistel Encryption Scheme "
   ]
  },
  {
   "cell_type": "code",
   "execution_count": 58,
   "metadata": {},
   "outputs": [],
   "source": [
    "# Load the dataset with the modified collate function\n",
    "\n",
    "# test_loader=CipherDataset('feistel_ciphertext_distinguisher_dataset.csv')\n",
    "test_loader=CipherDataset('Dataset_Fiestel/feistel_ciphertext_distinguisher_test_dataset.csv')\n",
    "test_loader = DataLoader(test_loader, batch_size=32, shuffle=True, collate_fn=collate_fn)"
   ]
  },
  {
   "cell_type": "code",
   "execution_count": 50,
   "metadata": {},
   "outputs": [
    {
     "name": "stdout",
     "output_type": "stream",
     "text": [
      "Accuracy: 0.3000\n",
      "\n",
      "Confusion Matrix:\n",
      "[[ 9  6]\n",
      " [15  0]]\n"
     ]
    },
    {
     "data": {
      "image/png": "[encoded data removed]",
      "text/plain": [
       "<Figure size 800x600 with 2 Axes>"
      ]
     },
     "metadata": {},
     "output_type": "display_data"
    }
   ],
   "source": [
    "import torch\n",
    "from torch.utils.data import DataLoader\n",
    "import numpy as np\n",
    "from sklearn.metrics import confusion_matrix\n",
    "\n",
    "# Assuming you have a test DataLoader called test_loader\n",
    "# Iterate through the test DataLoader\n",
    "model_feistel.eval()\n",
    "all_predictions = []\n",
    "all_ground_truth = []\n",
    "num_correct = 0\n",
    "total_samples = 0\n",
    "\n",
    "for ciphertexts, labels in test_loader:\n",
    "    with torch.no_grad():\n",
    "        # Preprocess the ciphertexts (convert to tensor and add necessary dimensions)\n",
    "        preprocessed_ciphertexts = torch.tensor([list(map(int, ciphertext)) for ciphertext in ciphertexts]).unsqueeze(2).float()\n",
    "\n",
    "        # Pass the preprocessed ciphertexts through the model\n",
    "        outputs = model_feistel(preprocessed_ciphertexts)\n",
    "\n",
    "        # Get predicted labels\n",
    "        _, predicted_classes = torch.max(outputs, 1)\n",
    "\n",
    "        # Count correct predictions\n",
    "        num_correct += (predicted_classes == labels).sum().item()\n",
    "\n",
    "        # Append predicted and ground truth labels to lists\n",
    "        all_predictions.extend(predicted_classes.tolist())\n",
    "        all_ground_truth.extend(labels.tolist())\n",
    "\n",
    "        # Update total samples\n",
    "        total_samples += labels.size(0)\n",
    "\n",
    "# Convert lists to numpy arrays\n",
    "all_predictions = np.array(all_predictions)\n",
    "all_ground_truth = np.array(all_ground_truth)\n",
    "\n",
    "# Compute confusion matrix\n",
    "conf_matrix = confusion_matrix(all_ground_truth, all_predictions)\n",
    "\n",
    "# Compute accuracy\n",
    "accuracy = np.sum(np.diag(conf_matrix)) / np.sum(conf_matrix)\n",
    "\n",
    "# Print accuracy and confusion matrix\n",
    "print(f\"Accuracy: {accuracy:.4f}\")\n",
    "print(\"\\nConfusion Matrix:\")\n",
    "print(conf_matrix)\n",
    "\n",
    "# Plot confusion matrix\n",
    "plt.figure(figsize=(8, 6))\n",
    "plt.imshow(conf_matrix, interpolation='nearest', cmap=plt.cm.Blues)\n",
    "plt.title('Confusion Matrix')\n",
    "plt.xlabel('Predicted Labels')\n",
    "plt.ylabel('True Labels')\n",
    "plt.colorbar()\n",
    "\n",
    "\n",
    "# Add annotations\n",
    "for i in range(conf_matrix.shape[0]):\n",
    "    for j in range(conf_matrix.shape[1]):\n",
    "        plt.text(j, i, str(conf_matrix[i, j]), horizontalalignment=\"center\", color=\"white\" if conf_matrix[i, j] > conf_matrix.max() / 2 else \"black\")\n",
    "\n",
    "# Remove x and y ticks\n",
    "plt.xticks([0, 1], ['0', '1'])\n",
    "plt.yticks([0, 1], ['0', '1'])\n",
    "\n",
    "plt.tight_layout()\n",
    "plt.show()"
   ]
  },
  {
   "cell_type": "markdown",
   "metadata": {},
   "source": [
    "--------------------------------------------------End of Notebook-------------------------------------------------"
   ]
  }
 ],
 "metadata": {
  "kernelspec": {
   "display_name": "base",
   "language": "python",
   "name": "python3"
  },
  "language_info": {
   "codemirror_mode": {
    "name": "ipython",
    "version": 3
   },
   "file_extension": ".py",
   "mimetype": "text/x-python",
   "name": "python",
   "nbconvert_exporter": "python",
   "pygments_lexer": "ipython3",
   "version": "3.11.7"
  }
 },
 "nbformat": 4,
 "nbformat_minor": 2
}
